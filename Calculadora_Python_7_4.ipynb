{
  "nbformat": 4,
  "nbformat_minor": 0,
  "metadata": {
    "colab": {
      "provenance": [],
      "authorship_tag": "ABX9TyNDOdb+uBNL3CmEAgrfyM9/",
      "include_colab_link": true
    },
    "kernelspec": {
      "name": "python3",
      "display_name": "Python 3"
    },
    "language_info": {
      "name": "python"
    }
  },
  "cells": [
    {
      "cell_type": "markdown",
      "metadata": {
        "id": "view-in-github",
        "colab_type": "text"
      },
      "source": [
        "<a href=\"https://colab.research.google.com/github/Marcelcrf/Calc.Python/blob/main/Calculadora_Python_7_4.ipynb\" target=\"_parent\"><img src=\"https://colab.research.google.com/assets/colab-badge.svg\" alt=\"Open In Colab\"/></a>"
      ]
    },
    {
      "cell_type": "code",
      "execution_count": null,
      "metadata": {
        "id": "_H1J8gszZQqn"
      },
      "outputs": [],
      "source": [
        "def calculadora():\n",
        "    print(\"Calculadora Simples\")\n",
        "    print(\"Operações disponíveis: +  -  *  /\")\n",
        "\n",
        "num1 = float(input(\"Digite o primeiro número: \"))\n",
        "operador = input(\"Digite a operação (+, -, *, /): \")\n",
        "num2 = float(input(\"Digite o segundo número: \"))\n",
        "\n",
        "if operador == '+':\n",
        "    print(\"Resultado:\", num1 + num2)\n",
        "elif operador == '-':\n",
        "    print(\"Resultado:\", num1 - num2)\n",
        "elif operador == '*':\n",
        "    print(\"Resultado:\", num1 * num2)\n",
        "elif operador == '/':\n",
        "    print(\"Resultado:\", num1 / num2)\n",
        "else:\n",
        "    print(\"Operação inválida.\")\n"
      ]
    }
  ]
}